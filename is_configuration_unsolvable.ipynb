{
 "cells": [
  {
   "cell_type": "markdown",
   "id": "40377040",
   "metadata": {},
   "source": [
    "**Supplementary Software for the Research Paper**   \n",
    "“The Only Class 0 Flower Snark is the Smallest”   \n",
    "Available at [arXiv:2505.22941](https://arxiv.org/abs/2505.22941)\n",
    "\n",
    "This notebook accompanies the above research and provides code used in the study.\n",
    "Developed by G.A. Bridi (ORCID: [0009-0000-8226-8286](https://orcid.org/0009-0000-8226-8286), Email: [gabridi@cos.ufrj.br](mailto:gabridi@cos.ufrj.br)).\n",
    "\n",
    "License: MIT"
   ]
  },
  {
   "cell_type": "code",
   "execution_count": 127,
   "id": "84656483",
   "metadata": {},
   "outputs": [],
   "source": [
    "import networkx as nx"
   ]
  },
  {
   "cell_type": "code",
   "execution_count": 128,
   "id": "be4ca0bc",
   "metadata": {},
   "outputs": [],
   "source": [
    "# This class represents a tree structure used to explore all possible combinations of pebbling moves from a initial configuration. \n",
    "# Each node in the tree corresponds to the distribution of pebbles after a particular sequence of moves, and edges represent valid pebbling moves.\n",
    "\n",
    "class Tree:\n",
    "    def __init__(self, data):\n",
    "        self.data = data\n",
    "        self.children = []\n",
    "        self.solution = False\n",
    "        \n",
    "    def add_child(self, child):\n",
    "        self.children.append(child)\n",
    "        \n",
    "    def create_tree(self, G, n, r):\n",
    "        # Builds the tree starting from the current node, which corresponds to the initial configuration.\n",
    "        # Applies pebbling moves to generate child states.\n",
    "        # Returns False if it finds a node with at least one pebble on the target node r (i.e., C(r) > 0), meaning the configuration is r-solvable.\n",
    "        # Otherwise, if no node with C(r) > 0 is found after exploring all possibilities, the configuration is r-unsolvable, and it returns True.\n",
    "        \n",
    "        stack = [self]\n",
    "        while stack:\n",
    "            node = stack.pop()\n",
    "            if node.data[r] > 0:\n",
    "                return False\n",
    "\n",
    "            if any(elemento >= 2 for elemento in node.data):\n",
    "                for i in range(n):\n",
    "                    if node.data[i] > 1:\n",
    "                        for j in G.neighbors(i):\n",
    "                            new_data = node.data[:]\n",
    "                            new_data[i] -= 2\n",
    "                            new_data[j] += 1\n",
    "\n",
    "                            if new_data[r] > 0:\n",
    "                                return False\n",
    "                                        \n",
    "                            child = Tree(new_data)\n",
    "                            node.add_child(child)\n",
    "                            stack.append(child)\n",
    "        \n",
    "        return True"
   ]
  },
  {
   "cell_type": "code",
   "execution_count": 129,
   "id": "641b6c88",
   "metadata": {},
   "outputs": [],
   "source": [
    "#Uses the Tree class to check and print whether configuration C is r-unsolvable or r-solvable in a graph G.\n",
    "\n",
    "def is_configuration_unsolvable(G, r, C):\n",
    "    t = Tree(C)\n",
    "    unsolvable = t.create_tree(G, nx.number_of_nodes(G), r - 1)\n",
    "    if unsolvable:\n",
    "        print(\"C is an r-unsolvable configuration\")\n",
    "    else:\n",
    "        print(\"C is an r-solvable configuration\") "
   ]
  },
  {
   "cell_type": "code",
   "execution_count": 130,
   "id": "a4283c6a",
   "metadata": {},
   "outputs": [],
   "source": [
    "#Loads graphs #1395, #44170, and #44172 from the House of Graphs (Graph6 format) using NetworkX.\n",
    "\n",
    "G1395 = nx.read_graph6(\"graph_1395.g6\")\n",
    "G44170 = nx.read_graph6(\"graph_44170.g6\")\n",
    "G44172 = nx.read_graph6(\"graph_44172.g6\")"
   ]
  },
  {
   "cell_type": "code",
   "execution_count": 131,
   "id": "b1ba4314",
   "metadata": {},
   "outputs": [
    {
     "name": "stdout",
     "output_type": "stream",
     "text": [
      "C is an r-unsolvable configuration\n"
     ]
    }
   ],
   "source": [
    "#Verifies that the following configuration C is unsolvable for the graph #1395.\n",
    "\n",
    "r = 1\n",
    "G = G1395\n",
    "C = [0, 0, 0, 0, 0, 7, 3, 0, 0, 1, 1, 0]\n",
    "\n",
    "is_configuration_unsolvable(G, r, C)"
   ]
  },
  {
   "cell_type": "code",
   "execution_count": 132,
   "id": "dfc9fe2a",
   "metadata": {},
   "outputs": [
    {
     "name": "stdout",
     "output_type": "stream",
     "text": [
      "C is an r-unsolvable configuration\n"
     ]
    }
   ],
   "source": [
    "#Verifies that the following configuration C is unsolvable for the graph #44170.\n",
    "\n",
    "r = 6\n",
    "G = G44170\n",
    "C = [5, 1, 1, 0, 0, 0, 0, 0, 0, 0, 5, 0]\n",
    "\n",
    "is_configuration_unsolvable(G, r, C)"
   ]
  },
  {
   "cell_type": "code",
   "execution_count": 133,
   "id": "662d7e51",
   "metadata": {},
   "outputs": [
    {
     "name": "stdout",
     "output_type": "stream",
     "text": [
      "C is an r-unsolvable configuration\n"
     ]
    }
   ],
   "source": [
    "#Verifies that the following configuration C is unsolvable for the graph #44172.\n",
    "\n",
    "r = 1\n",
    "G = G44172\n",
    "C = [0, 0, 0, 0, 7, 1, 1, 0, 0, 1, 1, 1]\n",
    "\n",
    "is_configuration_unsolvable(G, r, C)"
   ]
  }
 ],
 "metadata": {
  "kernelspec": {
   "display_name": "Python 3 (ipykernel)",
   "language": "python",
   "name": "python3"
  },
  "language_info": {
   "codemirror_mode": {
    "name": "ipython",
    "version": 3
   },
   "file_extension": ".py",
   "mimetype": "text/x-python",
   "name": "python",
   "nbconvert_exporter": "python",
   "pygments_lexer": "ipython3",
   "version": "3.9.12"
  }
 },
 "nbformat": 4,
 "nbformat_minor": 5
}
